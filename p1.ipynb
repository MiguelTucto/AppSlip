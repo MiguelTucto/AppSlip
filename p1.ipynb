{
  "nbformat": 4,
  "nbformat_minor": 0,
  "metadata": {
    "colab": {
      "name": "p1.ipynb",
      "provenance": [],
      "authorship_tag": "ABX9TyOYqjKC6BE2SPlkhRijAXgq",
      "include_colab_link": true
    },
    "kernelspec": {
      "name": "python3",
      "display_name": "Python 3"
    },
    "language_info": {
      "name": "python"
    }
  },
  "cells": [
    {
      "cell_type": "markdown",
      "metadata": {
        "id": "view-in-github",
        "colab_type": "text"
      },
      "source": [
        "<a href=\"https://colab.research.google.com/github/MiguelTucto/AppSlip/blob/master/p1.ipynb\" target=\"_parent\"><img src=\"https://colab.research.google.com/assets/colab-badge.svg\" alt=\"Open In Colab\"/></a>"
      ]
    },
    {
      "cell_type": "code",
      "metadata": {
        "id": "EY6cge5Sr5jj"
      },
      "source": [
        "def cambiomonedasmax(coins, needle):\n",
        "    solution = []\n",
        "    m = needle\n",
        "    coins.sort(reverse=True)\n",
        "    for coin in coins:\n",
        "        while (needle >= coin): \n",
        "            needle -= coin\n",
        "            solution.append(coin)\n",
        "\n",
        "    if sum(solution) != m:\n",
        "        solution = \"no hay solucion\"\n",
        "\n",
        "    return solution"
      ],
      "execution_count": 36,
      "outputs": []
    },
    {
      "cell_type": "code",
      "metadata": {
        "id": "0Ht0OvVQ5B6S"
      },
      "source": [
        "def cambiomonedasmin(coins, needle):\n",
        "    solution = []\n",
        "    m = needle\n",
        "    coins.sort(reverse=False)\n",
        "    for coin in coins:\n",
        "        while (needle >= coin): \n",
        "            needle -= coin\n",
        "            solution.append(coin)\n",
        "\n",
        "    if sum(solution) != m:\n",
        "        solution = \"no hay solucion\"\n",
        "\n",
        "    return solution"
      ],
      "execution_count": 37,
      "outputs": []
    },
    {
      "cell_type": "code",
      "metadata": {
        "colab": {
          "base_uri": "https://localhost:8080/"
        },
        "id": "TH1Hm3T34_yK",
        "outputId": "7bf4dd0f-2ead-4d20-a61f-48793e260ff5"
      },
      "source": [
        "if __name__ == '__main__':\n",
        "    money = 57\n",
        "    coins = [1, 2, 5, 10, 20]\n",
        "\n",
        "    print(\"Monedas : {0}\".format(coins))\n",
        "    print(\"Monto total a cambiar : S/.{0}\".format(money))\n",
        "    print(\"Cambio Recibido por el vendedor : {0}\".format(cambiomonedasmin(coins, money)))\n",
        "    print(\"Cambio Recibido por el comprador : {0}\".format(cambiomonedasmax(coins, money)))\n"
      ],
      "execution_count": 38,
      "outputs": [
        {
          "output_type": "stream",
          "name": "stdout",
          "text": [
            "Monedas : [1, 2, 5, 10, 20]\n",
            "Monto total a cambiar : S/.57\n",
            "Cambio Recibido por el vendedor : [1, 1, 1, 1, 1, 1, 1, 1, 1, 1, 1, 1, 1, 1, 1, 1, 1, 1, 1, 1, 1, 1, 1, 1, 1, 1, 1, 1, 1, 1, 1, 1, 1, 1, 1, 1, 1, 1, 1, 1, 1, 1, 1, 1, 1, 1, 1, 1, 1, 1, 1, 1, 1, 1, 1, 1, 1]\n",
            "Cambio Recibido por el comprador : [20, 20, 10, 5, 2]\n"
          ]
        }
      ]
    }
  ]
}